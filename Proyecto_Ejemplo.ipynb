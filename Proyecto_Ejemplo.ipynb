{
 "cells": [
  {
   "cell_type": "markdown",
   "metadata": {},
   "source": [
    "## Ejemplo"
   ]
  },
  {
   "cell_type": "code",
   "execution_count": 45,
   "metadata": {},
   "outputs": [],
   "source": [
    "#Librerias\n",
    "import numpy as np\n",
    "import scipy\n",
    "from scipy.integrate import quad as q\n",
    "import math as m"
   ]
  },
  {
   "cell_type": "markdown",
   "metadata": {},
   "source": [
    "Ilustación de la solución analitica del modelos $Black - Scholes$"
   ]
  },
  {
   "cell_type": "code",
   "execution_count": 46,
   "metadata": {},
   "outputs": [],
   "source": [
    "def funcionerror(x):\n",
    "    v=((q(lambda t: np.exp(-t**2), 0, x)))[0]\n",
    "    return 2/np.sqrt(np.pi)*v"
   ]
  },
  {
   "cell_type": "code",
   "execution_count": 26,
   "metadata": {},
   "outputs": [],
   "source": [
    "def d1(S,K,sigma,T,t,r):\n",
    "    return (m.log(S/K) + (r + ((sigma**2)/(2)))*(T))/(sigma*(m.sqrt(T-t)))\n",
    "\n",
    "def d2(S,K,sigma,T,t,r):\n",
    "    return d1(S,K,sigma,T,t,r) - sigma*np.sqrt(T-t)"
   ]
  },
  {
   "cell_type": "code",
   "execution_count": 27,
   "metadata": {},
   "outputs": [],
   "source": [
    "def N1(S,K,sigma,T,t,r):\n",
    "    return (1/2)*(1+funcionerror((d1(S,K,sigma,T,t,r))/(np.sqrt(2))))\n",
    "def N2(S,E,sigma,T,t,r):\n",
    "    return (1/2)*(1+funcionerror((d2(S,K,sigma,T,t,r))/(np.sqrt(2))))"
   ]
  },
  {
   "cell_type": "markdown",
   "metadata": {},
   "source": [
    "## Ejercicio \n",
    "Se toma como valor actual (en $t$) la cotización en el día $3$ de enero de $2005$ a las $10$ horas de Londres ($S_{t} = 1,3533$), como precio strike $E = 1,3533$, aunque estos vencimientos no existen en la práctica se asume un día $T = 1$, se supone un diferencial anual entre las tasas libre de riesgo de Estados Unidos y de la Comunidad Europea de $2\\%$ que llevado a valor diario es igual a $r = 0,072\\%$. El parámetro más difícil de precisar es la volatilidad del activo. Tres formas de estimarlo son: la desviación estándar de los retornos logarítmicos del registro histórico del precio del activo, la varianza incondicional obtenida mediante los modelos $GARCH(p, q)$ y la volatilidad implícita, usando el precio de la call europea dado por el mercado y despejando el valor de $s$ de la ecuación. Usando un $AR(1)$ para el nivel de la variable y un $GARCH(1, 1)$ con una serie diaria de los retornos logarítmicos de diciembre de $2004$ se estimó un valor de volatilidad diaria $s = 0,77\\%$\n",
    "."
   ]
  },
  {
   "cell_type": "code",
   "execution_count": null,
   "metadata": {},
   "outputs": [],
   "source": []
  },
  {
   "cell_type": "code",
   "execution_count": 28,
   "metadata": {},
   "outputs": [],
   "source": [
    "#Valores\n",
    "S = 1.3533 #Precio actual\n",
    "K = 1.3533 #Strike\n",
    "T = 1 #Vecimiento en años\n",
    "t = 0\n",
    "r = 0.072/100 #Tasa libre de riego\n",
    "sigma = 0.77/100 #Volatilidad"
   ]
  },
  {
   "cell_type": "code",
   "execution_count": 47,
   "metadata": {},
   "outputs": [
    {
     "data": {
      "text/plain": [
       "0.004660802494430016"
      ]
     },
     "execution_count": 47,
     "metadata": {},
     "output_type": "execute_result"
    }
   ],
   "source": [
    "CallEuropea = S*(N1(S,K,sigma,T,t,r)) - K*np.exp(-r*T)*N2(S,K,sigma,T,t,r)\n",
    "CallEuropea"
   ]
  },
  {
   "cell_type": "markdown",
   "metadata": {},
   "source": [
    "Para la callEupopea, el resutado es $0.004660802494430016$ que corresponde\n",
    "con el valor (en dólares) de no arbitraje que debe pagarse por ejercer el\n",
    "derecho a comprar euros al precio usd 1,3533 el día 4 de enero de 2005 a\n",
    "las 10 horas de Londres.\n"
   ]
  },
  {
   "cell_type": "markdown",
   "metadata": {},
   "source": [
    "______________________________________________________________________"
   ]
  },
  {
   "cell_type": "code",
   "execution_count": 21,
   "metadata": {},
   "outputs": [
    {
     "data": {
      "text/plain": [
       "0.35274894204899976"
      ]
     },
     "execution_count": 21,
     "metadata": {},
     "output_type": "execute_result"
    }
   ],
   "source": [
    "S = 19.08 # Precio actual\n",
    "K = 19.5 # Strike\n",
    "T = 0.125 # Venimiento en años\n",
    "t = 0\n",
    "r = 0.07 # Tasa libre de riego\n",
    "sigma = 0.1725 # Volatilidad\n",
    "\n",
    "CallEuropea = S*(N1(S,K,sigma,T,t,r)) - K*np.exp(-r*T)*N2(S,K,sigma,T,t,r)\n",
    "CallEuropea"
   ]
  },
  {
   "cell_type": "markdown",
   "metadata": {},
   "source": [
    "_______________________________________"
   ]
  },
  {
   "cell_type": "code",
   "execution_count": 24,
   "metadata": {},
   "outputs": [
    {
     "data": {
      "text/plain": [
       "11.12263796505259"
      ]
     },
     "execution_count": 24,
     "metadata": {},
     "output_type": "execute_result"
    }
   ],
   "source": [
    "S = 50 # Precio actual\n",
    "K = 40 # Strike\n",
    "T = 0.25 # Venimiento en años\n",
    "t = 0\n",
    "r = 0.1 # Tasa libre de riego\n",
    "sigma = 0.3 # Volatilidad\n",
    "\n",
    "CallEuropea = S*(N1(S,K,sigma,T,t,r)) - K*np.exp(-r*T)*N2(S,K,sigma,T,t,r)\n",
    "CallEuropea"
   ]
  }
 ],
 "metadata": {
  "kernelspec": {
   "display_name": "Python 3",
   "language": "python",
   "name": "python3"
  },
  "language_info": {
   "codemirror_mode": {
    "name": "ipython",
    "version": 3
   },
   "file_extension": ".py",
   "mimetype": "text/x-python",
   "name": "python",
   "nbconvert_exporter": "python",
   "pygments_lexer": "ipython3",
   "version": "3.7.3"
  }
 },
 "nbformat": 4,
 "nbformat_minor": 2
}
